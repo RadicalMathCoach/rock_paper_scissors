{
 "cells": [
  {
   "cell_type": "code",
   "execution_count": null,
   "id": "42f8ff09",
   "metadata": {},
   "outputs": [],
   "source": [
    "import random\n",
    "\n",
    "while True:\n",
    "    tools = [\"rock\", \"paper\", \"scissors\"]\n",
    "    user_choice = input(\"Choose your tool: rock, paper or scissors? \")\n",
    "    computer_choice = random.choice(tools)  \n",
    "\n",
    "    print(f\"The computer chose: {computer_choice} and you chose: {user_choice}, therefore:\")\\\n",
    "\n",
    "    if user_choice == computer_choice:\n",
    "        print(\"It's a draw!\")\n",
    "    elif (user_choice == \"rock\" and computer_choice == \"scissors\") \\\n",
    "        or (user_choice == \"scissors\" and computer_choice == \"paper\") \\\n",
    "        or (user_choice == \"paper\" and computer_choice == \"rock\"):\n",
    "            print(\"You win!\")\n",
    "    else:\n",
    "        print(\"You lose.\")\n",
    "\n",
    "    \n",
    "    play_again = input(\"Do you want to play again? (yes/no): \")\n",
    "    if play_again != \"yes\":\n",
    "        print(\"Thank you for playing the game!\")\n",
    "        break\n"
   ]
  }
 ],
 "metadata": {
  "kernelspec": {
   "display_name": "Python 3 (ipykernel)",
   "language": "python",
   "name": "python3"
  },
  "language_info": {
   "codemirror_mode": {
    "name": "ipython",
    "version": 3
   },
   "file_extension": ".py",
   "mimetype": "text/x-python",
   "name": "python",
   "nbconvert_exporter": "python",
   "pygments_lexer": "ipython3",
   "version": "3.11.5"
  }
 },
 "nbformat": 4,
 "nbformat_minor": 5
}
